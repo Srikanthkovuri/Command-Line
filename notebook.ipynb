{
 "cells": [
  {
   "cell_type": "code",
   "execution_count": 7,
   "metadata": {},
   "outputs": [],
   "source": [
    "\n",
    "\"\"\"This module have function for password\n",
    "\"\"\"\n",
    "import string\n",
    "import random\n",
    "def password_gen(length=8,digits=True,special_char=True):\n",
    "    \"\"\"function generates password\n",
    "\n",
    "    Args:\n",
    "        length (int, length): length for a password. Defaults to 8.\n",
    "        digits (bool, digits):include digits. Defaults to True.\n",
    "        special_char (bool, special_char):include special characters. Defaults to True.\n",
    "    \"\"\"\n",
    "    pass_gen=\"\"\n",
    "    total_char=string.ascii_letters\n",
    "    total_char+=string.digits\n",
    "    total_char+=string.punctuation\n",
    "    pass_gen+=random.choice(string.ascii_uppercase)\n",
    "    pass_gen+=random.choice(string.ascii_lowercase)\n",
    "    count=2\n",
    "    if digits:\n",
    "        pass_gen+=random.choice(string.digits)\n",
    "        count+=1\n",
    "    if special_char:\n",
    "        pass_gen+=random.choice(string.punctuation)\n",
    "        count+=1\n",
    "    remain_str=\"\"\n",
    "    #for _ in range(int(len)-count):\n",
    "        #remain_str+=random.choice(total_char)\n",
    "    remain_str=[random.choice(total_char) for _ in range(int(length)-count)]\n",
    "    pass_gen+=\"\".join(remain_str)\n",
    "\n",
    "    return pass_gen"
   ]
  },
  {
   "cell_type": "code",
   "execution_count": 16,
   "metadata": {},
   "outputs": [
    {
     "name": "stdout",
     "output_type": "stream",
     "text": [
      "Ex8-U9!fT:@S\n"
     ]
    }
   ],
   "source": [
    "print(password_gen(12))"
   ]
  }
 ],
 "metadata": {
  "kernelspec": {
   "display_name": "Python 3",
   "language": "python",
   "name": "python3"
  },
  "language_info": {
   "codemirror_mode": {
    "name": "ipython",
    "version": 3
   },
   "file_extension": ".py",
   "mimetype": "text/x-python",
   "name": "python",
   "nbconvert_exporter": "python",
   "pygments_lexer": "ipython3",
   "version": "3.12.5"
  }
 },
 "nbformat": 4,
 "nbformat_minor": 2
}
